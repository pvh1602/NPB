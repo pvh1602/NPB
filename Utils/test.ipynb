{
 "cells": [
  {
   "cell_type": "code",
   "execution_count": 1,
   "metadata": {},
   "outputs": [],
   "source": [
    "import numpy as np\n",
    "import pickle\n",
    "import os\n",
    "import json\n",
    "import matplotlib.pyplot as plt\n",
    "import torch\n",
    "import seaborn as sns\n",
    "import torch.nn as nn\n",
    "from prettytable import PrettyTable\n",
    "import pandas as pd\n",
    "import copy\n",
    "import sys\n",
    "import pprint\n",
    "sys.path.append('D:/FPTAI/Code/SNN/understand_pai/')\n",
    "\n",
    "from Utils import load\n",
    "import tinyimagenet_resnet_modified as tinyimagenet_resnet\n",
    "import lottery_resnet_modified as lottery_resnet\n",
    "\n",
    "\n",
    "def load_model(model_architecture, model_class):\n",
    "    lottery_models = {\n",
    "        'resnet20': lottery_resnet.resnet20,\n",
    "        'resnet32': lottery_resnet.resnet32,\n",
    "        'resnet44': lottery_resnet.resnet44,\n",
    "        'resnet56': lottery_resnet.resnet56,\n",
    "        'resnet110': lottery_resnet.resnet110,\n",
    "        'resnet1202': lottery_resnet.resnet1202,\n",
    "        'wide-resnet20': lottery_resnet.wide_resnet20,\n",
    "        'wide-resnet32': lottery_resnet.wide_resnet32,\n",
    "        'wide-resnet44': lottery_resnet.wide_resnet44,\n",
    "        'wide-resnet56': lottery_resnet.wide_resnet56,\n",
    "        'wide-resnet110': lottery_resnet.wide_resnet110,\n",
    "        'wide-resnet1202': lottery_resnet.wide_resnet1202,\n",
    "        'narrow-resnet20': lottery_resnet.narrow_resnet20\n",
    "    }\n",
    "    tinyimagenet_models = {\n",
    "        'resnet18' : tinyimagenet_resnet.resnet18,\n",
    "        'resnet34' : tinyimagenet_resnet.resnet34,\n",
    "        'resnet50' : tinyimagenet_resnet.resnet50,\n",
    "        'resnet101' : tinyimagenet_resnet.resnet101,\n",
    "        'resnet152' : tinyimagenet_resnet.resnet152,\n",
    "        'wide-resnet18' : tinyimagenet_resnet.wide_resnet18,\n",
    "        'wide-resnet34' : tinyimagenet_resnet.wide_resnet34,\n",
    "        'wide-resnet50' : tinyimagenet_resnet.wide_resnet50,\n",
    "        'wide-resnet101' : tinyimagenet_resnet.wide_resnet101,\n",
    "        'wide-resnet152' : tinyimagenet_resnet.wide_resnet152,\n",
    "    }\n",
    "\n",
    "    models = {\n",
    "        'lottery' : lottery_models,\n",
    "        'tinyimagenet' : tinyimagenet_models,\n",
    "    }\n",
    "    if model_class == 'imagenet':\n",
    "        print(\"WARNING: ImageNet models do not implement `dense_classifier`.\")\n",
    "    return models[model_class][model_architecture]\n",
    "\n",
    "    \n",
    "\n",
    "def read_performance(path='./', model_class='lottery', model='resnet18', pruner='grasp', compression=100, seed=None, shuffling=False):\n",
    "    if shuffling:\n",
    "        path = f'{path}/compression_{int(compression)}/{pruner}/seed_{seed}/{pruner}_{compression}_performance.log'\n",
    "    else:\n",
    "        path = f'{path}/compression_{int(compression)}/{pruner}/seed_{seed}/{pruner}_{compression}_performance.log'\n",
    "    # path = f'{path}/compression_{int(compression)}/{pruner}/{pruner}_{compression}_performance.log'\n",
    "    with open(path, 'r') as f:\n",
    "        lines = f.readlines()\n",
    "    for line in lines:\n",
    "        if 'Final' in line:\n",
    "            line = line.strip().split()\n",
    "            acc = float(line[-2])\n",
    "            break\n",
    "    return acc\n"
   ]
  },
  {
   "cell_type": "markdown",
   "metadata": {},
   "source": [
    "### OUrs paper"
   ]
  },
  {
   "cell_type": "code",
   "execution_count": 2,
   "metadata": {},
   "outputs": [],
   "source": [
    "\n",
    "def stat_eff_metric(path='./', model_class='lottery', model='resnet18', pruner='grasp', compression=100, seed=None, shuffling=False):\n",
    "    if 'mask' in path:\n",
    "        with open(path, 'rb') as f:\n",
    "            data = pickle.load(f)\n",
    "        masks = data['masks']\n",
    "        out_fea, in_fea, _, _ = masks[-1].shape\n",
    "        masks[-1] = masks[-1].reshape(out_fea, in_fea)\n",
    "    else:\n",
    "        if shuffling:\n",
    "            path = f'{path}/compression_{int(compression)}/{pruner}/shuffling_seeds/seed_{seed}'\n",
    "        else:\n",
    "            path = f'{path}/compression_{int(compression)}/{pruner}/seed_{seed}'\n",
    "        \n",
    "        # path = f'{path}/compression_{int(compression)}/{pruner}/default_seed'\n",
    "        # Load stored mask\n",
    "        with open(f'{path}/{pruner}_{compression}.pkl', 'rb') as f:\n",
    "            data = pickle.load(f)\n",
    "        masks = data['mask']\n",
    "\n",
    "\n",
    "    if 'cifar10_' in model:\n",
    "        model = model.replace('cifar10_', '')\n",
    "        input_shape, num_classes = load.dimension('cifar10')\n",
    "    elif 'cifar100_' in model:\n",
    "        model = model.replace('cifar100_', '')\n",
    "        input_shape, num_classes = load.dimension('cifar100')\n",
    "    elif 'tiny-imagenet_' in model:\n",
    "        model = model.replace('tiny-imagenet_', '')\n",
    "        input_shape, num_classes = load.dimension('tiny-imagenet')\n",
    "    else:\n",
    "        print('')\n",
    "\n",
    "    # Load model and convert it to double to avoid overflow \n",
    "    if 'resnet' in model:\n",
    "        net = load_model(model, model_class)(input_shape, \n",
    "                                num_classes).double()\n",
    "\n",
    "    # Load model without batchnorm since it normalize the values of neurons\n",
    "    if 'vgg' in model:\n",
    "        model = model.replace('-bn', '')\n",
    "        net = load.model(model, model_class)(input_shape, \n",
    "                                        num_classes).double()\n",
    "    c, h, w = input_shape\n",
    "\n",
    "\n",
    "    i = 0\n",
    "\n",
    "    with torch.no_grad():\n",
    "        for name, param in net.named_parameters():\n",
    "            if 'shortcut' in name:\n",
    "                continue\n",
    "            print(name, '\\t', param.shape)\n",
    "            print(masks[i].shape)\n",
    "            i += 1\n",
    "\n",
    "    with torch.no_grad():\n",
    "        # Cast all params to ones\n",
    "        for name, param in net.named_parameters():\n",
    "            param.copy_(torch.ones_like(param))\n",
    "        \n",
    "        # Assign stored mask to the buffered mask of the model\n",
    "        for name, mask in net.named_buffers():\n",
    "            # name format 'blocks.x.conv1.weight_mask' with shape [32,32,3,3]\n",
    "            # or  'fc.weight_mask' with shape [10, 64]\n",
    "            if 'weight_mask' in name and len(mask.shape) in [2, 4]:\n",
    "                mask.copy_(torch.tensor(masks[i]))\n",
    "                i += 1\n",
    "\n",
    "    # Put input ones through the subnet and backward\n",
    "    x = torch.ones((1, c, h, w)).double()\n",
    "    y = net(x)\n",
    "    loss = y.sum()\n",
    "    # loss\n",
    "    loss.backward()\n",
    "\n",
    "    ###########\n",
    "    # EFFECTIVE PATHS\n",
    "    ###########\n",
    "    eff_paths = loss.item()\n",
    "\n",
    "    # all_params = 0.\n",
    "    # for name, mask in net.named_buffers():\n",
    "    #     if 'weight_mask' in name and len(mask.shape) in [2,4]:\n",
    "    #         all_params += torch.numel(mask)\n",
    "    # all_params = all_params * 10**(-float(compression/100))\n",
    "    # return all_params\n",
    "\n",
    "\n",
    "    # Compute unpruned channel\n",
    "    table = PrettyTable(['Layer', '#Effective Channel'])\n",
    "    table.align['Layer'] = 'c'\n",
    "    df = {'Layer':[], '#Effective Channel':[], '#Unpruned Channel': []}\n",
    "    n_layers = len(masks)\n",
    "    i = 0   # index of stored mask\n",
    "    all_unpuned = 0 # all unpruned neurons\n",
    "    layer_id = 0    # index of layer\n",
    "    for name, param in net.named_parameters():\n",
    "        # Iterate over all layers\n",
    "        if 'weight' in name and len(param.shape) in [4]:  # Consider conv layers \n",
    "            # Ignore the shortcut layers\n",
    "            if 'shortcut' in name:\n",
    "                i += 1 \n",
    "                continue\n",
    "            # print(masks[i].shape)\n",
    "            # print(masks[i+1].shape, '\\n')\n",
    "            if i != 0:\n",
    "                sum_along_in_channels = np.sum(masks[i], axis=(0,2,3))\n",
    "                sum_along_out_channels = np.sum(masks[i-1], axis=(1,2,3))\n",
    "                sum_along_both = sum_along_in_channels + sum_along_out_channels\n",
    "            else:\n",
    "                sum_along_both = np.sum(masks[i], axis=(0,2,3))\n",
    "            n_unpruned = np.where(sum_along_both > 0, 1, 0).sum()\n",
    "            all_unpuned += n_unpruned\n",
    "            # table.add_row([f'{layer_id}', n_e])\n",
    "            # df['Layer'].append(layer_id)\n",
    "            df['#Unpruned Channel'].append(n_unpruned)\n",
    "\n",
    "            i += 1\n",
    "            layer_id += 1\n",
    "\n",
    "        if 'weight' in name and len(param.shape) in [2]:\n",
    "            sum_along_in_features = np.sum(masks[i], axis=0)\n",
    "            n_unpruned = np.where(sum_along_in_features > 0, 1, 0).sum()\n",
    "            all_unpuned += n_unpruned\n",
    "            # table.add_row([f'pre_output', n_e])\n",
    "            # print('pre ', name, '\\t', n_e)\n",
    "            # df['Layer'].append('Pre_Output')\n",
    "            df['#Unpruned Channel'].append(n_unpruned)\n",
    "\n",
    "            sum_along_out_features = np.sum(masks[i], axis=1)\n",
    "            n_unpruned = np.where(sum_along_out_features > 0, 1, 0).sum()\n",
    "            all_unpuned += n_unpruned\n",
    "            # table.add_row([f'output', n_e])\n",
    "            # print(name, '\\t', n_e)\n",
    "            # df['Layer'].append('Output')\n",
    "            df['#Unpruned Channel'].append(n_unpruned)\n",
    "\n",
    "    ###########\n",
    "    # EFFECTIVE PARAMS\n",
    "    ###########\n",
    "    eff_params = 0.\n",
    "    with torch.no_grad():\n",
    "        i = 0\n",
    "        for name, param in net.named_parameters():\n",
    "            # name format blocks.4.conv1.weight with shape [32,32,3,3]\n",
    "            # or fc.weight with shape [10,64]\n",
    "            # or blocks.6.shortcut.0.weight with shape [64,32,1,1]\n",
    "            if 'weight' in name and len(param.shape) in [2, 4]:\n",
    "                masks[i] = torch.where(param.grad.data != 0, 1, 0).numpy()\n",
    "                eff_params += np.sum(masks[i])\n",
    "                i += 1\n",
    "\n",
    "    ###########\n",
    "    # EFFECTIVE CHANNELS\n",
    "    ###########\n",
    "    # stat the effective neurons or channels\n",
    "    \n",
    "    i = 0   # index of stored mask\n",
    "    all_n_e = 0 # all effective neurons\n",
    "    layer_id = 0    # index of layer\n",
    "    for name, param in net.named_parameters():\n",
    "        # Iterate over all layers\n",
    "        if 'weight' in name and len(param.shape) in [4]:  # Consider conv layers \n",
    "            # Ignore the shortcut layers\n",
    "            if 'shortcut' in name:\n",
    "                i += 1 \n",
    "                continue\n",
    "            \n",
    "            sum_along_in_channels = np.sum(masks[i], axis=(0,2,3))\n",
    "            n_e = np.where(sum_along_in_channels > 0, 1, 0).sum()\n",
    "            all_n_e += n_e\n",
    "            table.add_row([f'{layer_id}', n_e])\n",
    "            df['Layer'].append(layer_id)\n",
    "            df['#Effective Channel'].append(n_e)\n",
    "\n",
    "            i += 1\n",
    "            layer_id += 1\n",
    "\n",
    "        if 'weight' in name and len(param.shape) in [2]:\n",
    "            sum_along_in_features = np.sum(masks[i], axis=0)\n",
    "            n_e = np.where(sum_along_in_features > 0, 1, 0).sum()\n",
    "            all_n_e += n_e\n",
    "            table.add_row([f'pre_output', n_e])\n",
    "            # print('pre ', name, '\\t', n_e)\n",
    "            df['Layer'].append('Pre_Output')\n",
    "            df['#Effective Channel'].append(n_e)\n",
    "\n",
    "            sum_along_out_features = np.sum(masks[i], axis=1)\n",
    "            n_e = np.where(sum_along_out_features > 0, 1, 0).sum()\n",
    "            all_n_e += n_e\n",
    "            table.add_row([f'output', n_e])\n",
    "            # print(name, '\\t', n_e)\n",
    "            df['Layer'].append('Output')\n",
    "            df['#Effective Channel'].append(n_e)\n",
    "        else:\n",
    "            continue\n",
    "\n",
    "    eff_neurons = all_n_e\n",
    "\n",
    "    data = table.get_string()\n",
    "    # with open(f'{path}/count_effective_node_1.txt', 'w') as f:\n",
    "    #     f.write(data)\n",
    "    \n",
    "    # df1 = pd.DataFrame.from_dict(df)\n",
    "    # df1.to_csv(f'{path}/count_effective_node_1.csv', index=False)\n",
    "    # print(df1)\n",
    "\n",
    "    return df, eff_paths, eff_neurons, eff_params, all_unpuned"
   ]
  },
  {
   "cell_type": "code",
   "execution_count": null,
   "metadata": {},
   "outputs": [],
   "source": [
    "model = 'cifar10_resnet20'\n",
    "model_class = 'lottery'\n",
    "compression = 200\n",
    "pruner = 'snip'\n",
    "seed = 1\n",
    "\n",
    "df, eff_paths, eff_neurons, eff_params, all_unpuned = stat_eff_metric(\n",
    "                                                                    path=f'./mask_2 copy.pkl', \n",
    "                                                                    model=model, \n",
    "                                                                    model_class=model_class, \n",
    "                                                                    pruner=pruner, \n",
    "                                                                    compression=compression,\n",
    "                                                                    seed=seed,                  \n",
    "                                                                    )"
   ]
  },
  {
   "cell_type": "code",
   "execution_count": 21,
   "metadata": {},
   "outputs": [
    {
     "data": {
      "text/plain": [
       "318"
      ]
     },
     "execution_count": 21,
     "metadata": {},
     "output_type": "execute_result"
    }
   ],
   "source": [
    "all_unpuned"
   ]
  },
  {
   "cell_type": "code",
   "execution_count": 24,
   "metadata": {},
   "outputs": [
    {
     "data": {
      "text/plain": [
       "318"
      ]
     },
     "execution_count": 24,
     "metadata": {},
     "output_type": "execute_result"
    }
   ],
   "source": [
    "sum(df['#Unpruned Channel'])"
   ]
  },
  {
   "cell_type": "code",
   "execution_count": 36,
   "metadata": {},
   "outputs": [],
   "source": [
    "model = 'cifar10_resnet20'\n",
    "model_class = 'lottery'\n",
    "compressions = [25, 50,100,150,200,250,300,350]\n",
    "pruners = ['snip', 'rand', 'synflow', 'impsynflow_2_15']\n",
    "seeds = [1,2,3,4,5]\n",
    "\n",
    "\n",
    "results = []\n",
    "for pruner in pruners:\n",
    "    df = {}\n",
    "    for compression in compressions:\n",
    "        df[str(compression)] = {}\n",
    "        avg_eff_neurons = 0\n",
    "        avg_in_eff_neurons = 0 \n",
    "        for seed in seeds:\n",
    "            _, eff_paths, eff_neurons, eff_params, all_unpuned = stat_eff_metric(\n",
    "                                                                                path=f'./{model}/uniform/pre_epoch_0/', \n",
    "                                                                                model=model, \n",
    "                                                                                model_class=model_class, \n",
    "                                                                                pruner=pruner, \n",
    "                                                                                compression=compression,\n",
    "                                                                                seed=seed,                  \n",
    "                                                                                )\n",
    "\n",
    "            avg_eff_neurons += eff_neurons / len(seeds)\n",
    "            avg_in_eff_neurons =+ (all_unpuned-eff_neurons) / len(seeds)\n",
    "        df[str(compression)]['Eff_nodes'] = avg_eff_neurons  \n",
    "        df[str(compression)]['Ineff_nodes'] = avg_in_eff_neurons\n",
    "    df = pd.DataFrame.from_dict(df)\n",
    "    results.append(df)\n",
    "    \n"
   ]
  },
  {
   "cell_type": "code",
   "execution_count": 37,
   "metadata": {},
   "outputs": [
    {
     "data": {
      "text/html": [
       "<div>\n",
       "<style scoped>\n",
       "    .dataframe tbody tr th:only-of-type {\n",
       "        vertical-align: middle;\n",
       "    }\n",
       "\n",
       "    .dataframe tbody tr th {\n",
       "        vertical-align: top;\n",
       "    }\n",
       "\n",
       "    .dataframe thead th {\n",
       "        text-align: right;\n",
       "    }\n",
       "</style>\n",
       "<table border=\"1\" class=\"dataframe\">\n",
       "  <thead>\n",
       "    <tr style=\"text-align: right;\">\n",
       "      <th></th>\n",
       "      <th>25</th>\n",
       "      <th>50</th>\n",
       "      <th>100</th>\n",
       "      <th>150</th>\n",
       "      <th>200</th>\n",
       "      <th>250</th>\n",
       "      <th>300</th>\n",
       "      <th>350</th>\n",
       "    </tr>\n",
       "  </thead>\n",
       "  <tbody>\n",
       "    <tr>\n",
       "      <th>Eff_nodes</th>\n",
       "      <td>701.0</td>\n",
       "      <td>610.6</td>\n",
       "      <td>468.4</td>\n",
       "      <td>330.8</td>\n",
       "      <td>191.2</td>\n",
       "      <td>83.4</td>\n",
       "      <td>27.0</td>\n",
       "      <td>4.0</td>\n",
       "    </tr>\n",
       "    <tr>\n",
       "      <th>Ineff_nodes</th>\n",
       "      <td>0.0</td>\n",
       "      <td>8.2</td>\n",
       "      <td>17.2</td>\n",
       "      <td>20.2</td>\n",
       "      <td>33.6</td>\n",
       "      <td>25.4</td>\n",
       "      <td>22.4</td>\n",
       "      <td>10.8</td>\n",
       "    </tr>\n",
       "    <tr>\n",
       "      <th>Eff_nodes</th>\n",
       "      <td>701.0</td>\n",
       "      <td>699.8</td>\n",
       "      <td>680.0</td>\n",
       "      <td>642.4</td>\n",
       "      <td>474.8</td>\n",
       "      <td>8.8</td>\n",
       "      <td>0.0</td>\n",
       "      <td>0.0</td>\n",
       "    </tr>\n",
       "    <tr>\n",
       "      <th>Ineff_nodes</th>\n",
       "      <td>0.0</td>\n",
       "      <td>0.0</td>\n",
       "      <td>0.0</td>\n",
       "      <td>2.2</td>\n",
       "      <td>26.8</td>\n",
       "      <td>97.6</td>\n",
       "      <td>61.6</td>\n",
       "      <td>25.8</td>\n",
       "    </tr>\n",
       "    <tr>\n",
       "      <th>Eff_nodes</th>\n",
       "      <td>701.0</td>\n",
       "      <td>608.8</td>\n",
       "      <td>416.8</td>\n",
       "      <td>257.4</td>\n",
       "      <td>147.2</td>\n",
       "      <td>85.0</td>\n",
       "      <td>46.2</td>\n",
       "      <td>26.6</td>\n",
       "    </tr>\n",
       "    <tr>\n",
       "      <th>Ineff_nodes</th>\n",
       "      <td>0.0</td>\n",
       "      <td>0.0</td>\n",
       "      <td>0.0</td>\n",
       "      <td>0.0</td>\n",
       "      <td>0.6</td>\n",
       "      <td>0.0</td>\n",
       "      <td>0.2</td>\n",
       "      <td>0.2</td>\n",
       "    </tr>\n",
       "    <tr>\n",
       "      <th>Eff_nodes</th>\n",
       "      <td>701.0</td>\n",
       "      <td>651.8</td>\n",
       "      <td>508.6</td>\n",
       "      <td>387.4</td>\n",
       "      <td>274.0</td>\n",
       "      <td>136.0</td>\n",
       "      <td>51.0</td>\n",
       "      <td>27.2</td>\n",
       "    </tr>\n",
       "    <tr>\n",
       "      <th>Ineff_nodes</th>\n",
       "      <td>0.0</td>\n",
       "      <td>0.0</td>\n",
       "      <td>0.6</td>\n",
       "      <td>1.0</td>\n",
       "      <td>0.8</td>\n",
       "      <td>0.8</td>\n",
       "      <td>1.6</td>\n",
       "      <td>2.2</td>\n",
       "    </tr>\n",
       "  </tbody>\n",
       "</table>\n",
       "</div>"
      ],
      "text/plain": [
       "                25     50    100    150    200    250   300   350\n",
       "Eff_nodes    701.0  610.6  468.4  330.8  191.2   83.4  27.0   4.0\n",
       "Ineff_nodes    0.0    8.2   17.2   20.2   33.6   25.4  22.4  10.8\n",
       "Eff_nodes    701.0  699.8  680.0  642.4  474.8    8.8   0.0   0.0\n",
       "Ineff_nodes    0.0    0.0    0.0    2.2   26.8   97.6  61.6  25.8\n",
       "Eff_nodes    701.0  608.8  416.8  257.4  147.2   85.0  46.2  26.6\n",
       "Ineff_nodes    0.0    0.0    0.0    0.0    0.6    0.0   0.2   0.2\n",
       "Eff_nodes    701.0  651.8  508.6  387.4  274.0  136.0  51.0  27.2\n",
       "Ineff_nodes    0.0    0.0    0.6    1.0    0.8    0.8   1.6   2.2"
      ]
     },
     "execution_count": 37,
     "metadata": {},
     "output_type": "execute_result"
    }
   ],
   "source": [
    "res = pd.concat(results, axis=0)\n",
    "res"
   ]
  },
  {
   "cell_type": "markdown",
   "metadata": {},
   "source": [
    "### Rare Gem"
   ]
  },
  {
   "cell_type": "code",
   "execution_count": 10,
   "metadata": {},
   "outputs": [],
   "source": [
    "\n",
    "def stat_eff_metric(path='./', model_class='lottery', model='resnet18', pruner='grasp', compression=100, seed=None, shuffling=False):\n",
    "\n",
    "    with open(path, 'rb') as f:\n",
    "        data = pickle.load(f)\n",
    "    masks = data['masks']\n",
    "    out_fea, in_fea, _, _ = masks[-1].shape\n",
    "    masks[-1] = masks[-1].reshape(out_fea, in_fea)\n",
    "   \n",
    "\n",
    "    if 'cifar10_' in model:\n",
    "        model = model.replace('cifar10_', '')\n",
    "        input_shape, num_classes = load.dimension('cifar10')\n",
    "    elif 'cifar100_' in model:\n",
    "        model = model.replace('cifar100_', '')\n",
    "        input_shape, num_classes = load.dimension('cifar100')\n",
    "    elif 'tiny-imagenet_' in model:\n",
    "        model = model.replace('tiny-imagenet_', '')\n",
    "        input_shape, num_classes = load.dimension('tiny-imagenet')\n",
    "    else:\n",
    "        print('')\n",
    "\n",
    "    # Load model and convert it to double to avoid overflow \n",
    "    if 'resnet' in model:\n",
    "        net = load_model(model, model_class)(input_shape, \n",
    "                                num_classes).double()\n",
    "\n",
    "    # Load model without batchnorm since it normalize the values of neurons\n",
    "    if 'vgg' in model:\n",
    "        model = model.replace('-bn', '')\n",
    "        net = load.model(model, model_class)(input_shape, \n",
    "                                        num_classes).double()\n",
    "    c, h, w = input_shape\n",
    "\n",
    "\n",
    "    i = 0\n",
    "\n",
    "    # with torch.no_grad():\n",
    "    #     # for name, param in net.named_parameters():\n",
    "    #     #     if 'shortcut' in name or 'bias' in name:\n",
    "    #     #         continue\n",
    "    #     #     print(name, '\\t', param.shape)\n",
    "    #     #     print(masks[i].shape)\n",
    "\n",
    "    with torch.no_grad():\n",
    "        # Cast all params to ones\n",
    "        for name, param in net.named_parameters():\n",
    "            param.copy_(torch.ones_like(param))\n",
    "        \n",
    "        # Assign stored mask to the buffered mask of the model\n",
    "        for name, mask in net.named_buffers():\n",
    "            # print(f'{name} \\t {mask.shape}')\n",
    "            if 'shortcut' in name or 'bias' in name:\n",
    "                continue\n",
    "            # print(f'Layer {i} {masks[i].shape}')\n",
    "            masks[i] = np.where(masks[i] == 0, 0, 1)\n",
    "            # name format 'blocks.x.conv1.weight_mask' with shape [32,32,3,3]\n",
    "            # or  'fc.weight_mask' with shape [10, 64]\n",
    "            if 'weight_mask' in name and len(mask.shape) in [2, 4]:\n",
    "                mask.copy_(torch.tensor(masks[i]))\n",
    "                i += 1\n",
    "\n",
    "    # Put input ones through the subnet and backward\n",
    "    x = torch.ones((1, c, h, w)).double()\n",
    "    y = net(x)\n",
    "    loss = y.sum()\n",
    "    # loss\n",
    "    loss.backward()\n",
    "\n",
    "    ###########\n",
    "    # EFFECTIVE PATHS\n",
    "    ###########\n",
    "    eff_paths = loss.item()\n",
    "\n",
    "    # all_params = 0.\n",
    "    # for name, mask in net.named_buffers():\n",
    "    #     if 'weight_mask' in name and len(mask.shape) in [2,4]:\n",
    "    #         all_params += torch.numel(mask)\n",
    "    # all_params = all_params * 10**(-float(compression/100))\n",
    "    # return all_params\n",
    "\n",
    "\n",
    "    # Compute unpruned channel\n",
    "    table = PrettyTable(['Layer', '#Effective Channel'])\n",
    "    table.align['Layer'] = 'c'\n",
    "    df = {'Layer':[], '#Effective Channel':[], '#Unpruned Channel': []}\n",
    "    n_layers = len(masks)\n",
    "    i = 0   # index of stored mask\n",
    "    all_unpuned = 0 # all unpruned neurons\n",
    "    layer_id = 0    # index of layer\n",
    "    for name, param in net.named_parameters():\n",
    "        # Iterate over all layers\n",
    "        if 'weight' in name and len(param.shape) in [4]:  # Consider conv layers \n",
    "            # Ignore the shortcut layers\n",
    "            if 'shortcut' in name or 'bias' in name:\n",
    "                # i += 1 \n",
    "                continue\n",
    "            # print(masks[i].shape)\n",
    "            # print(masks[i+1].shape, '\\n')\n",
    "            if i != 0:\n",
    "                sum_along_in_channels = np.sum(masks[i], axis=(0,2,3))\n",
    "                sum_along_out_channels = np.sum(masks[i-1], axis=(1,2,3))\n",
    "                sum_along_both = sum_along_in_channels + sum_along_out_channels\n",
    "            else:\n",
    "                sum_along_both = np.sum(masks[i], axis=(0,2,3))\n",
    "            n_unpruned = np.where(sum_along_both > 0, 1, 0).sum()\n",
    "            all_unpuned += n_unpruned\n",
    "            # table.add_row([f'{layer_id}', n_e])\n",
    "            # df['Layer'].append(layer_id)\n",
    "            df['#Unpruned Channel'].append(n_unpruned)\n",
    "\n",
    "            i += 1\n",
    "            layer_id += 1\n",
    "\n",
    "        if 'weight' in name and len(param.shape) in [2]:\n",
    "            sum_along_in_features = np.sum(masks[i], axis=0)\n",
    "            n_unpruned = np.where(sum_along_in_features > 0, 1, 0).sum()\n",
    "            all_unpuned += n_unpruned\n",
    "            # table.add_row([f'pre_output', n_e])\n",
    "            # print('pre ', name, '\\t', n_e)\n",
    "            # df['Layer'].append('Pre_Output')\n",
    "            df['#Unpruned Channel'].append(n_unpruned)\n",
    "\n",
    "            sum_along_out_features = np.sum(masks[i], axis=1)\n",
    "            n_unpruned = np.where(sum_along_out_features > 0, 1, 0).sum()\n",
    "            all_unpuned += n_unpruned\n",
    "            # table.add_row([f'output', n_e])\n",
    "            # print(name, '\\t', n_e)\n",
    "            # df['Layer'].append('Output')\n",
    "            df['#Unpruned Channel'].append(n_unpruned)\n",
    "\n",
    "    ###########\n",
    "    # EFFECTIVE PARAMS\n",
    "    ###########\n",
    "    eff_params = 0.\n",
    "    with torch.no_grad():\n",
    "        i = 0\n",
    "        for name, param in net.named_parameters():\n",
    "            # name format blocks.4.conv1.weight with shape [32,32,3,3]\n",
    "            # or fc.weight with shape [10,64]\n",
    "            # ignore shortcut and bias\n",
    "            if 'shortcut' in name or 'bias' in name:\n",
    "                # i += 1 \n",
    "                continue\n",
    "            if 'weight' in name and len(param.shape) in [2, 4]:\n",
    "                masks[i] = torch.where(param.grad.data != 0, 1, 0).numpy()\n",
    "                eff_params += np.sum(masks[i])\n",
    "                i += 1\n",
    "\n",
    "    ###########\n",
    "    # EFFECTIVE CHANNELS\n",
    "    ###########\n",
    "    # stat the effective neurons or channels\n",
    "    \n",
    "    i = 0   # index of stored mask\n",
    "    all_n_e = 0 # all effective neurons\n",
    "    layer_id = 0    # index of layer\n",
    "    for name, param in net.named_parameters():\n",
    "        # Iterate over all layers\n",
    "        if 'weight' in name and len(param.shape) in [4]:  # Consider conv layers \n",
    "            # Ignore the shortcut layers\n",
    "            if 'shortcut' in name or 'bias' in name:\n",
    "                # i += 1 \n",
    "                continue\n",
    "            \n",
    "            sum_along_in_channels = np.sum(masks[i], axis=(0,2,3))\n",
    "            n_e = np.where(sum_along_in_channels > 0, 1, 0).sum()\n",
    "            all_n_e += n_e\n",
    "            table.add_row([f'{layer_id}', n_e])\n",
    "            df['Layer'].append(layer_id)\n",
    "            df['#Effective Channel'].append(n_e)\n",
    "\n",
    "            i += 1\n",
    "            layer_id += 1\n",
    "\n",
    "        if 'weight' in name and len(param.shape) in [2]:\n",
    "            sum_along_in_features = np.sum(masks[i], axis=0)\n",
    "            n_e = np.where(sum_along_in_features > 0, 1, 0).sum()\n",
    "            all_n_e += n_e\n",
    "            table.add_row([f'pre_output', n_e])\n",
    "            # print('pre ', name, '\\t', n_e)\n",
    "            df['Layer'].append('Pre_Output')\n",
    "            df['#Effective Channel'].append(n_e)\n",
    "\n",
    "            sum_along_out_features = np.sum(masks[i], axis=1)\n",
    "            n_e = np.where(sum_along_out_features > 0, 1, 0).sum()\n",
    "            all_n_e += n_e\n",
    "            table.add_row([f'output', n_e])\n",
    "            # print(name, '\\t', n_e)\n",
    "            df['Layer'].append('Output')\n",
    "            df['#Effective Channel'].append(n_e)\n",
    "        else:\n",
    "            continue\n",
    "\n",
    "    eff_neurons = all_n_e\n",
    "\n",
    "    data = table.get_string()\n",
    "    print(table)\n",
    "    # with open(f'{path}/count_effective_node_1.txt', 'w') as f:\n",
    "    #     f.write(data)\n",
    "    \n",
    "    # df1 = pd.DataFrame.from_dict(df)\n",
    "    # df1.to_csv(f'{path}/count_effective_node_1.csv', index=False)\n",
    "    # print(df1)\n",
    "\n",
    "    return df, eff_paths, eff_neurons, eff_params, all_unpuned"
   ]
  },
  {
   "cell_type": "markdown",
   "metadata": {},
   "source": [
    "##### Run"
   ]
  },
  {
   "cell_type": "markdown",
   "metadata": {},
   "source": [
    "##### Sparsity 99.44% - Acc 37.28"
   ]
  },
  {
   "cell_type": "code",
   "execution_count": 3,
   "metadata": {},
   "outputs": [],
   "source": [
    "model = 'cifar10_resnet20'\n",
    "model_class = 'lottery'\n",
    "compression = 200\n",
    "pruner = 'snip'\n",
    "seed = 1\n",
    "\n",
    "df, eff_paths, eff_neurons, eff_params, all_unpuned = stat_eff_metric(\n",
    "                                                                    path=f'./RareGem_cifar10_resnet20/sparsity_0.56/mask_2.pkl', \n",
    "                                                                    model=model, \n",
    "                                                                    model_class=model_class, \n",
    "                                                                    pruner=pruner, \n",
    "                                                                    compression=compression,\n",
    "                                                                    seed=seed,                  \n",
    "                                                                    )"
   ]
  },
  {
   "cell_type": "code",
   "execution_count": 5,
   "metadata": {},
   "outputs": [
    {
     "name": "stdout",
     "output_type": "stream",
     "text": [
      "Eff nodes: \t 437\n",
      "Eff param: \t 1269.0\n",
      "Eff paths: \t 7921424560.0\n",
      "Ineff nodes: \t 172\n"
     ]
    },
    {
     "data": {
      "text/plain": [
       "609"
      ]
     },
     "execution_count": 5,
     "metadata": {},
     "output_type": "execute_result"
    }
   ],
   "source": [
    "print(f'Eff nodes: \\t {eff_neurons}')\n",
    "print(f'Eff param: \\t {eff_params}')\n",
    "print(f'Eff paths: \\t {eff_paths}')\n",
    "print(f'Ineff nodes: \\t {all_unpuned-eff_neurons}')\n",
    "all_unpuned"
   ]
  },
  {
   "cell_type": "markdown",
   "metadata": {},
   "source": [
    "#### Sparsity 99.41% - Acc 65.72"
   ]
  },
  {
   "cell_type": "code",
   "execution_count": 6,
   "metadata": {},
   "outputs": [
    {
     "name": "stdout",
     "output_type": "stream",
     "text": [
      "Eff nodes: \t 363\n",
      "Eff param: \t 1566.0\n",
      "Eff paths: \t 1.0984814734095962e+16\n",
      "Ineff nodes: \t 34\n"
     ]
    },
    {
     "data": {
      "text/plain": [
       "397"
      ]
     },
     "execution_count": 6,
     "metadata": {},
     "output_type": "execute_result"
    }
   ],
   "source": [
    "model = 'cifar10_resnet20'\n",
    "model_class = 'lottery'\n",
    "compression = 200\n",
    "pruner = 'snip'\n",
    "seed = 1\n",
    "\n",
    "df, eff_paths, eff_neurons, eff_params, all_unpuned = stat_eff_metric(\n",
    "                                                                    path=f'./RareGem_cifar10_resnet20/sparsity_0.59/mask_2.pkl', \n",
    "                                                                    model=model, \n",
    "                                                                    model_class=model_class, \n",
    "                                                                    pruner=pruner, \n",
    "                                                                    compression=compression,\n",
    "                                                                    seed=seed,                  \n",
    "                                                                    )\n",
    "\n",
    "print(f'Eff nodes: \\t {eff_neurons}')\n",
    "print(f'Eff param: \\t {eff_params}')\n",
    "print(f'Eff paths: \\t {eff_paths}')\n",
    "print(f'Ineff nodes: \\t {all_unpuned-eff_neurons}')\n",
    "all_unpuned"
   ]
  },
  {
   "cell_type": "markdown",
   "metadata": {},
   "source": [
    "#### Sparsity 99.00% - Acc 46.09"
   ]
  },
  {
   "cell_type": "code",
   "execution_count": 6,
   "metadata": {},
   "outputs": [
    {
     "name": "stdout",
     "output_type": "stream",
     "text": [
      "Eff nodes: \t 536\n",
      "Eff param: \t 2434.0\n",
      "Eff paths: \t 2136661521379.0\n",
      "Ineff nodes: \t 119\n"
     ]
    },
    {
     "data": {
      "text/plain": [
       "655"
      ]
     },
     "execution_count": 6,
     "metadata": {},
     "output_type": "execute_result"
    }
   ],
   "source": [
    "model = 'cifar10_resnet20'\n",
    "model_class = 'lottery'\n",
    "compression = 200\n",
    "pruner = 'snip'\n",
    "seed = 1\n",
    "\n",
    "df, eff_paths, eff_neurons, eff_params, all_unpuned = stat_eff_metric(\n",
    "                                                                    path=f'./RareGem_cifar10_resnet20/sparsity_1.0/mask_2.pkl', \n",
    "                                                                    model=model, \n",
    "                                                                    model_class=model_class, \n",
    "                                                                    pruner=pruner, \n",
    "                                                                    compression=compression,\n",
    "                                                                    seed=seed,                  \n",
    "                                                                    )\n",
    "\n",
    "print(f'Eff nodes: \\t {eff_neurons}')\n",
    "print(f'Eff param: \\t {eff_params}')\n",
    "print(f'Eff paths: \\t {eff_paths}')\n",
    "print(f'Ineff nodes: \\t {all_unpuned-eff_neurons}')\n",
    "all_unpuned"
   ]
  },
  {
   "cell_type": "markdown",
   "metadata": {},
   "source": [
    "#### Sparsity 98.56 - Acc 75.22"
   ]
  },
  {
   "cell_type": "code",
   "execution_count": 4,
   "metadata": {},
   "outputs": [
    {
     "name": "stdout",
     "output_type": "stream",
     "text": [
      "Eff nodes: \t 402\n",
      "Eff param: \t 3861.0\n",
      "Eff paths: \t 1.0619251671282233e+23\n",
      "Ineff nodes: \t 14\n"
     ]
    },
    {
     "data": {
      "text/plain": [
       "416"
      ]
     },
     "execution_count": 4,
     "metadata": {},
     "output_type": "execute_result"
    }
   ],
   "source": [
    "model = 'cifar10_resnet20'\n",
    "model_class = 'lottery'\n",
    "compression = 200\n",
    "pruner = 'snip'\n",
    "seed = 1\n",
    "\n",
    "df, eff_paths, eff_neurons, eff_params, all_unpuned = stat_eff_metric(\n",
    "                                                                    path=f'./RareGem_cifar10_resnet20/sparsity_144/mask_2.pkl', \n",
    "                                                                    model=model, \n",
    "                                                                    model_class=model_class, \n",
    "                                                                    pruner=pruner, \n",
    "                                                                    compression=compression,\n",
    "                                                                    seed=seed,                  \n",
    "                                                                    )\n",
    "\n",
    "print(f'Eff nodes: \\t {eff_neurons}')\n",
    "print(f'Eff param: \\t {eff_params}')\n",
    "print(f'Eff paths: \\t {eff_paths}')\n",
    "print(f'Ineff nodes: \\t {all_unpuned-eff_neurons}')\n",
    "all_unpuned"
   ]
  },
  {
   "cell_type": "markdown",
   "metadata": {},
   "source": [
    "#### Sparsity 96.68% - Acc 83.23"
   ]
  },
  {
   "cell_type": "code",
   "execution_count": 42,
   "metadata": {},
   "outputs": [
    {
     "name": "stdout",
     "output_type": "stream",
     "text": [
      "Eff nodes: \t 616\n",
      "Eff param: \t 9975.0\n",
      "Eff paths: \t 7.213264915784648e+27\n",
      "Ineff nodes: \t 18\n"
     ]
    },
    {
     "data": {
      "text/plain": [
       "634"
      ]
     },
     "execution_count": 42,
     "metadata": {},
     "output_type": "execute_result"
    }
   ],
   "source": [
    "model = 'cifar10_resnet20'\n",
    "model_class = 'lottery'\n",
    "compression = 200\n",
    "pruner = 'snip'\n",
    "seed = 1\n",
    "\n",
    "df, eff_paths, eff_neurons, eff_params, all_unpuned = stat_eff_metric(\n",
    "                                                                    path=f'./RareGem_cifar10_resnet20/sparsity_372/mask_2.pkl', \n",
    "                                                                    model=model, \n",
    "                                                                    model_class=model_class, \n",
    "                                                                    pruner=pruner, \n",
    "                                                                    compression=compression,\n",
    "                                                                    seed=seed,                  \n",
    "                                                                    )\n",
    "\n",
    "print(f'Eff nodes: \\t {eff_neurons}')\n",
    "print(f'Eff param: \\t {eff_params}')\n",
    "print(f'Eff paths: \\t {eff_paths}')\n",
    "print(f'Ineff nodes: \\t {all_unpuned-eff_neurons}')\n",
    "all_unpuned"
   ]
  },
  {
   "cell_type": "markdown",
   "metadata": {},
   "source": [
    "#### Sparsity 90.00% - Acc 85.18"
   ]
  },
  {
   "cell_type": "code",
   "execution_count": 11,
   "metadata": {},
   "outputs": [
    {
     "name": "stdout",
     "output_type": "stream",
     "text": [
      "+------------+--------------------+\n",
      "|   Layer    | #Effective Channel |\n",
      "+------------+--------------------+\n",
      "|     0      |         3          |\n",
      "|     1      |         16         |\n",
      "|     2      |         16         |\n",
      "|     3      |         16         |\n",
      "|     4      |         16         |\n",
      "|     5      |         16         |\n",
      "|     6      |         16         |\n",
      "|     7      |         16         |\n",
      "|     8      |         32         |\n",
      "|     9      |         32         |\n",
      "|     10     |         32         |\n",
      "|     11     |         32         |\n",
      "|     12     |         32         |\n",
      "|     13     |         32         |\n",
      "|     14     |         64         |\n",
      "|     15     |         64         |\n",
      "|     16     |         64         |\n",
      "|     17     |         64         |\n",
      "|     18     |         64         |\n",
      "| pre_output |         64         |\n",
      "|   output   |         10         |\n",
      "+------------+--------------------+\n",
      "Eff nodes: \t 701\n",
      "Eff param: \t 26827.0\n",
      "Eff paths: \t 1.8186218635716103e+33\n",
      "Ineff nodes: \t 0\n"
     ]
    },
    {
     "data": {
      "text/plain": [
       "701"
      ]
     },
     "execution_count": 11,
     "metadata": {},
     "output_type": "execute_result"
    }
   ],
   "source": [
    "model = 'cifar10_resnet20'\n",
    "model_class = 'lottery'\n",
    "compression = 200\n",
    "pruner = 'snip'\n",
    "seed = 1\n",
    "\n",
    "df, eff_paths, eff_neurons, eff_params, all_unpuned = stat_eff_metric(\n",
    "                                                                    path=f'./RareGem_cifar10_resnet20/sparsity_10.0/mask_2.pkl', \n",
    "                                                                    model=model, \n",
    "                                                                    model_class=model_class, \n",
    "                                                                    pruner=pruner, \n",
    "                                                                    compression=compression,\n",
    "                                                                    seed=seed,                  \n",
    "                                                                    )\n",
    "\n",
    "print(f'Eff nodes: \\t {eff_neurons}')\n",
    "print(f'Eff param: \\t {eff_params}')\n",
    "print(f'Eff paths: \\t {eff_paths}')\n",
    "print(f'Ineff nodes: \\t {all_unpuned-eff_neurons}')\n",
    "all_unpuned"
   ]
  },
  {
   "cell_type": "code",
   "execution_count": 43,
   "metadata": {},
   "outputs": [
    {
     "data": {
      "text/plain": [
       "26709.0"
      ]
     },
     "execution_count": 43,
     "metadata": {},
     "output_type": "execute_result"
    }
   ],
   "source": [
    "eff_params"
   ]
  },
  {
   "cell_type": "code",
   "execution_count": 44,
   "metadata": {},
   "outputs": [
    {
     "data": {
      "text/html": [
       "<div>\n",
       "<style scoped>\n",
       "    .dataframe tbody tr th:only-of-type {\n",
       "        vertical-align: middle;\n",
       "    }\n",
       "\n",
       "    .dataframe tbody tr th {\n",
       "        vertical-align: top;\n",
       "    }\n",
       "\n",
       "    .dataframe thead th {\n",
       "        text-align: right;\n",
       "    }\n",
       "</style>\n",
       "<table border=\"1\" class=\"dataframe\">\n",
       "  <thead>\n",
       "    <tr style=\"text-align: right;\">\n",
       "      <th></th>\n",
       "      <th>Layer</th>\n",
       "      <th>#Effective Channel</th>\n",
       "      <th>#Unpruned Channel</th>\n",
       "    </tr>\n",
       "  </thead>\n",
       "  <tbody>\n",
       "    <tr>\n",
       "      <th>0</th>\n",
       "      <td>0</td>\n",
       "      <td>3</td>\n",
       "      <td>3</td>\n",
       "    </tr>\n",
       "    <tr>\n",
       "      <th>1</th>\n",
       "      <td>1</td>\n",
       "      <td>16</td>\n",
       "      <td>16</td>\n",
       "    </tr>\n",
       "    <tr>\n",
       "      <th>2</th>\n",
       "      <td>2</td>\n",
       "      <td>16</td>\n",
       "      <td>16</td>\n",
       "    </tr>\n",
       "    <tr>\n",
       "      <th>3</th>\n",
       "      <td>3</td>\n",
       "      <td>16</td>\n",
       "      <td>16</td>\n",
       "    </tr>\n",
       "    <tr>\n",
       "      <th>4</th>\n",
       "      <td>4</td>\n",
       "      <td>16</td>\n",
       "      <td>16</td>\n",
       "    </tr>\n",
       "    <tr>\n",
       "      <th>5</th>\n",
       "      <td>5</td>\n",
       "      <td>16</td>\n",
       "      <td>16</td>\n",
       "    </tr>\n",
       "    <tr>\n",
       "      <th>6</th>\n",
       "      <td>6</td>\n",
       "      <td>16</td>\n",
       "      <td>16</td>\n",
       "    </tr>\n",
       "    <tr>\n",
       "      <th>7</th>\n",
       "      <td>7</td>\n",
       "      <td>16</td>\n",
       "      <td>16</td>\n",
       "    </tr>\n",
       "    <tr>\n",
       "      <th>8</th>\n",
       "      <td>8</td>\n",
       "      <td>32</td>\n",
       "      <td>32</td>\n",
       "    </tr>\n",
       "    <tr>\n",
       "      <th>9</th>\n",
       "      <td>9</td>\n",
       "      <td>32</td>\n",
       "      <td>32</td>\n",
       "    </tr>\n",
       "    <tr>\n",
       "      <th>10</th>\n",
       "      <td>10</td>\n",
       "      <td>32</td>\n",
       "      <td>32</td>\n",
       "    </tr>\n",
       "    <tr>\n",
       "      <th>11</th>\n",
       "      <td>11</td>\n",
       "      <td>32</td>\n",
       "      <td>32</td>\n",
       "    </tr>\n",
       "    <tr>\n",
       "      <th>12</th>\n",
       "      <td>12</td>\n",
       "      <td>32</td>\n",
       "      <td>32</td>\n",
       "    </tr>\n",
       "    <tr>\n",
       "      <th>13</th>\n",
       "      <td>13</td>\n",
       "      <td>32</td>\n",
       "      <td>32</td>\n",
       "    </tr>\n",
       "    <tr>\n",
       "      <th>14</th>\n",
       "      <td>14</td>\n",
       "      <td>64</td>\n",
       "      <td>64</td>\n",
       "    </tr>\n",
       "    <tr>\n",
       "      <th>15</th>\n",
       "      <td>15</td>\n",
       "      <td>64</td>\n",
       "      <td>64</td>\n",
       "    </tr>\n",
       "    <tr>\n",
       "      <th>16</th>\n",
       "      <td>16</td>\n",
       "      <td>64</td>\n",
       "      <td>64</td>\n",
       "    </tr>\n",
       "    <tr>\n",
       "      <th>17</th>\n",
       "      <td>17</td>\n",
       "      <td>64</td>\n",
       "      <td>64</td>\n",
       "    </tr>\n",
       "    <tr>\n",
       "      <th>18</th>\n",
       "      <td>18</td>\n",
       "      <td>64</td>\n",
       "      <td>64</td>\n",
       "    </tr>\n",
       "    <tr>\n",
       "      <th>19</th>\n",
       "      <td>Pre_Output</td>\n",
       "      <td>62</td>\n",
       "      <td>62</td>\n",
       "    </tr>\n",
       "    <tr>\n",
       "      <th>20</th>\n",
       "      <td>Output</td>\n",
       "      <td>10</td>\n",
       "      <td>10</td>\n",
       "    </tr>\n",
       "  </tbody>\n",
       "</table>\n",
       "</div>"
      ],
      "text/plain": [
       "         Layer  #Effective Channel  #Unpruned Channel\n",
       "0            0                   3                  3\n",
       "1            1                  16                 16\n",
       "2            2                  16                 16\n",
       "3            3                  16                 16\n",
       "4            4                  16                 16\n",
       "5            5                  16                 16\n",
       "6            6                  16                 16\n",
       "7            7                  16                 16\n",
       "8            8                  32                 32\n",
       "9            9                  32                 32\n",
       "10          10                  32                 32\n",
       "11          11                  32                 32\n",
       "12          12                  32                 32\n",
       "13          13                  32                 32\n",
       "14          14                  64                 64\n",
       "15          15                  64                 64\n",
       "16          16                  64                 64\n",
       "17          17                  64                 64\n",
       "18          18                  64                 64\n",
       "19  Pre_Output                  62                 62\n",
       "20      Output                  10                 10"
      ]
     },
     "execution_count": 44,
     "metadata": {},
     "output_type": "execute_result"
    }
   ],
   "source": [
    "df = pd.DataFrame.from_dict(df)\n",
    "df"
   ]
  },
  {
   "cell_type": "markdown",
   "metadata": {},
   "source": [
    "## LTH"
   ]
  },
  {
   "cell_type": "code",
   "execution_count": 3,
   "metadata": {},
   "outputs": [],
   "source": [
    "mask = torch.load('./resnet20_cifar10_lth/replicate_42/level_10/main/mask.pth')\n"
   ]
  },
  {
   "cell_type": "code",
   "execution_count": 4,
   "metadata": {},
   "outputs": [
    {
     "data": {
      "text/plain": [
       "dict"
      ]
     },
     "execution_count": 4,
     "metadata": {},
     "output_type": "execute_result"
    }
   ],
   "source": [
    "type(mask)"
   ]
  },
  {
   "cell_type": "code",
   "execution_count": 5,
   "metadata": {},
   "outputs": [
    {
     "name": "stdout",
     "output_type": "stream",
     "text": [
      "conv.weight \t torch.Size([16, 3, 3, 3])\n",
      "blocks.0.conv1.weight \t torch.Size([16, 16, 3, 3])\n",
      "blocks.0.conv2.weight \t torch.Size([16, 16, 3, 3])\n",
      "blocks.1.conv1.weight \t torch.Size([16, 16, 3, 3])\n",
      "blocks.1.conv2.weight \t torch.Size([16, 16, 3, 3])\n",
      "blocks.2.conv1.weight \t torch.Size([16, 16, 3, 3])\n",
      "blocks.2.conv2.weight \t torch.Size([16, 16, 3, 3])\n",
      "blocks.3.conv1.weight \t torch.Size([32, 16, 3, 3])\n",
      "blocks.3.conv2.weight \t torch.Size([32, 32, 3, 3])\n",
      "blocks.3.shortcut.0.weight \t torch.Size([32, 16, 1, 1])\n",
      "blocks.4.conv1.weight \t torch.Size([32, 32, 3, 3])\n",
      "blocks.4.conv2.weight \t torch.Size([32, 32, 3, 3])\n",
      "blocks.5.conv1.weight \t torch.Size([32, 32, 3, 3])\n",
      "blocks.5.conv2.weight \t torch.Size([32, 32, 3, 3])\n",
      "blocks.6.conv1.weight \t torch.Size([64, 32, 3, 3])\n",
      "blocks.6.conv2.weight \t torch.Size([64, 64, 3, 3])\n",
      "blocks.6.shortcut.0.weight \t torch.Size([64, 32, 1, 1])\n",
      "blocks.7.conv1.weight \t torch.Size([64, 64, 3, 3])\n",
      "blocks.7.conv2.weight \t torch.Size([64, 64, 3, 3])\n",
      "blocks.8.conv1.weight \t torch.Size([64, 64, 3, 3])\n",
      "blocks.8.conv2.weight \t torch.Size([64, 64, 3, 3])\n",
      "fc.weight \t torch.Size([10, 64])\n"
     ]
    }
   ],
   "source": [
    "for k, v in mask.items():\n",
    "    print(k, '\\t', v.shape)"
   ]
  },
  {
   "cell_type": "code",
   "execution_count": 6,
   "metadata": {},
   "outputs": [],
   "source": [
    "for k, v in mask.items():\n",
    "    mask[k] = v.cpu().numpy()\n"
   ]
  },
  {
   "cell_type": "code",
   "execution_count": 13,
   "metadata": {},
   "outputs": [],
   "source": [
    "\n",
    "def stat_eff_metric(path='./', model_class='lottery', model='resnet18', pruner='grasp', compression=100, seed=None, shuffling=False):\n",
    "    \n",
    "    masks = torch.load(path)\n",
    "    for k, v in masks.items():\n",
    "        masks[k] = v.cpu().numpy()\n",
    "    masks = list(masks.values())\n",
    "\n",
    "\n",
    "    if 'cifar10_' in model:\n",
    "        model = model.replace('cifar10_', '')\n",
    "        input_shape, num_classes = load.dimension('cifar10')\n",
    "    elif 'cifar100_' in model:\n",
    "        model = model.replace('cifar100_', '')\n",
    "        input_shape, num_classes = load.dimension('cifar100')\n",
    "    elif 'tiny-imagenet_' in model:\n",
    "        model = model.replace('tiny-imagenet_', '')\n",
    "        input_shape, num_classes = load.dimension('tiny-imagenet')\n",
    "    else:\n",
    "        print('')\n",
    "\n",
    "    # Load model and convert it to double to avoid overflow \n",
    "    if 'resnet' in model:\n",
    "        net = load_model(model, model_class)(input_shape, \n",
    "                                num_classes).double()\n",
    "\n",
    "    # Load model without batchnorm since it normalize the values of neurons\n",
    "    if 'vgg' in model:\n",
    "        model = model.replace('-bn', '')\n",
    "        net = load.model(model, model_class)(input_shape, \n",
    "                                        num_classes).double()\n",
    "    c, h, w = input_shape\n",
    "\n",
    "\n",
    "    i = 0\n",
    "\n",
    "    with torch.no_grad():\n",
    "        # Cast all params to ones\n",
    "        for name, param in net.named_parameters():\n",
    "            param.copy_(torch.ones_like(param))\n",
    "        \n",
    "        # Assign stored mask to the buffered mask of the model\n",
    "        for name, mask in net.named_buffers():\n",
    "            # name format 'blocks.x.conv1.weight_mask' with shape [32,32,3,3]\n",
    "            # or  'fc.weight_mask' with shape [10, 64]\n",
    "            if 'weight_mask' in name and len(mask.shape) in [2, 4]:\n",
    "                mask.copy_(torch.tensor(masks[i]))\n",
    "                i += 1\n",
    "\n",
    "    # Put input ones through the subnet and backward\n",
    "    x = torch.ones((1, c, h, w)).double()\n",
    "    y = net(x)\n",
    "    loss = y.sum()\n",
    "    # loss\n",
    "    loss.backward()\n",
    "\n",
    "    ###########\n",
    "    # EFFECTIVE PATHS\n",
    "    ###########\n",
    "    eff_paths = loss.item()\n",
    "\n",
    "    # all_params = 0.\n",
    "    # for name, mask in net.named_buffers():\n",
    "    #     if 'weight_mask' in name and len(mask.shape) in [2,4]:\n",
    "    #         all_params += torch.numel(mask)\n",
    "    # all_params = all_params * 10**(-float(compression/100))\n",
    "    # return all_params\n",
    "\n",
    "    ###########\n",
    "    # EFFECTIVE PARAMS\n",
    "    ###########\n",
    "    eff_params = 0.\n",
    "    with torch.no_grad():\n",
    "        i = 0\n",
    "        for name, param in net.named_parameters():\n",
    "            # name format blocks.4.conv1.weight with shape [32,32,3,3]\n",
    "            # or fc.weight with shape [10,64]\n",
    "            # or blocks.6.shortcut.0.weight with shape [64,32,1,1]\n",
    "            if 'weight' in name and len(param.shape) in [2, 4]:\n",
    "                masks[i] = torch.where(param.grad.data != 0, 1, 0).numpy()\n",
    "                eff_params += np.sum(masks[i])\n",
    "                i += 1\n",
    "\n",
    "    ###########\n",
    "    # EFFECTIVE CHANNELS\n",
    "    ###########\n",
    "    # stat the effective neurons or channels\n",
    "    \n",
    "    table = PrettyTable(['Layer', '#Effective Channel'])\n",
    "    table.align['Layer'] = 'c'\n",
    "    df = {'Layer':[], '#Effective Channel':[]}\n",
    "    i = 0   # index of stored mask\n",
    "    all_n_e = 0 # all effective neurons\n",
    "    layer_id = 0    # index of layer\n",
    "    for name, param in net.named_parameters():\n",
    "        # Iterate over all layers\n",
    "        if 'weight' in name and len(param.shape) in [4]:  # Consider conv layers \n",
    "            # Ignore the shortcut layers\n",
    "            if 'shortcut' in name:\n",
    "                i += 1 \n",
    "                continue\n",
    "            \n",
    "            sum_along_in_channels = np.sum(masks[i], axis=(0,2,3))\n",
    "            n_e = np.where(sum_along_in_channels > 0, 1, 0).sum()\n",
    "            all_n_e += n_e\n",
    "            table.add_row([f'{layer_id}', n_e])\n",
    "            df['Layer'].append(layer_id)\n",
    "            df['#Effective Channel'].append(n_e)\n",
    "\n",
    "            i += 1\n",
    "            layer_id += 1\n",
    "\n",
    "        if 'weight' in name and len(param.shape) in [2]:\n",
    "            sum_along_in_features = np.sum(masks[i], axis=0)\n",
    "            n_e = np.where(sum_along_in_features > 0, 1, 0).sum()\n",
    "            all_n_e += n_e\n",
    "            table.add_row([f'pre_output', n_e])\n",
    "            # print('pre ', name, '\\t', n_e)\n",
    "            df['Layer'].append('Pre_Output')\n",
    "            df['#Effective Channel'].append(n_e)\n",
    "\n",
    "            sum_along_out_features = np.sum(masks[i], axis=1)\n",
    "            n_e = np.where(sum_along_out_features > 0, 1, 0).sum()\n",
    "            all_n_e += n_e\n",
    "            table.add_row([f'output', n_e])\n",
    "            # print(name, '\\t', n_e)\n",
    "            df['Layer'].append('Output')\n",
    "            df['#Effective Channel'].append(n_e)\n",
    "        else:\n",
    "            continue\n",
    "    print(table)\n",
    "\n",
    "    eff_neurons = all_n_e\n",
    "\n",
    "    data = table.get_string()\n",
    "    # with open(f'{path}/count_effective_node.txt', 'w') as f:\n",
    "    #     f.write(data)\n",
    "    \n",
    "    # df1 = pd.DataFrame.from_dict(df)\n",
    "    # df1.to_csv(f'{path}/count_effective_node.csv', index=False)\n",
    "\n",
    "    return df, eff_paths, eff_neurons, eff_params"
   ]
  },
  {
   "cell_type": "markdown",
   "metadata": {},
   "source": [
    "### Run"
   ]
  },
  {
   "cell_type": "markdown",
   "metadata": {},
   "source": [
    "#### Sparsity 96.48 - Acc 86.23"
   ]
  },
  {
   "cell_type": "code",
   "execution_count": 9,
   "metadata": {},
   "outputs": [
    {
     "name": "stdout",
     "output_type": "stream",
     "text": [
      "+------------+--------------------+\n",
      "|   Layer    | #Effective Channel |\n",
      "+------------+--------------------+\n",
      "|     0      |         3          |\n",
      "|     1      |         14         |\n",
      "|     2      |         13         |\n",
      "|     3      |         16         |\n",
      "|     4      |         13         |\n",
      "|     5      |         16         |\n",
      "|     6      |         14         |\n",
      "|     7      |         16         |\n",
      "|     8      |         29         |\n",
      "|     9      |         32         |\n",
      "|     10     |         30         |\n",
      "|     11     |         32         |\n",
      "|     12     |         29         |\n",
      "|     13     |         32         |\n",
      "|     14     |         60         |\n",
      "|     15     |         60         |\n",
      "|     16     |         61         |\n",
      "|     17     |         64         |\n",
      "|     18     |         52         |\n",
      "| pre_output |         59         |\n",
      "|   output   |         10         |\n",
      "+------------+--------------------+\n",
      "path:\t 1.1152375573647437e+26\n",
      "node:\t 655\n",
      "sparsity:\t 96.48425964207667\n"
     ]
    }
   ],
   "source": [
    "model = 'cifar10_resnet20'\n",
    "model_class = 'lottery'\n",
    "compression = 100\n",
    "pruner = 'snip'\n",
    "seed = 1\n",
    "\n",
    "path = './resnet20_cifar10_lth/replicate_118/level_15/main'\n",
    "\n",
    "df, eff_paths, eff_neurons, eff_params = stat_eff_metric(\n",
    "                                                        path=f'{path}/mask.pth', \n",
    "                                                        model=model, \n",
    "                                                        model_class=model_class, \n",
    "                                                        pruner=pruner, \n",
    "                                                        compression=compression,\n",
    "                                                        seed=seed,                  \n",
    "                                                        )\n",
    "\n",
    "sparsity_file = f'{path}/sparsity_report.json'\n",
    "with open(sparsity_file) as f:\n",
    "    sparsity = json.load(f)\n",
    "s = 100 - sparsity['unpruned'] / sparsity['total'] * 100\n",
    "print('path:\\t', eff_paths)\n",
    "print('node:\\t', eff_neurons)\n",
    "print('sparsity:\\t',s)"
   ]
  },
  {
   "cell_type": "code",
   "execution_count": 14,
   "metadata": {},
   "outputs": [
    {
     "name": "stdout",
     "output_type": "stream",
     "text": [
      "+------------+--------------------+\n",
      "|   Layer    | #Effective Channel |\n",
      "+------------+--------------------+\n",
      "|     0      |         3          |\n",
      "|     1      |         15         |\n",
      "|     2      |         14         |\n",
      "|     3      |         16         |\n",
      "|     4      |         13         |\n",
      "|     5      |         16         |\n",
      "|     6      |         15         |\n",
      "|     7      |         16         |\n",
      "|     8      |         29         |\n",
      "|     9      |         32         |\n",
      "|     10     |         31         |\n",
      "|     11     |         32         |\n",
      "|     12     |         30         |\n",
      "|     13     |         32         |\n",
      "|     14     |         60         |\n",
      "|     15     |         62         |\n",
      "|     16     |         62         |\n",
      "|     17     |         64         |\n",
      "|     18     |         60         |\n",
      "| pre_output |         63         |\n",
      "|   output   |         10         |\n",
      "+------------+--------------------+\n",
      "path:\t 1.4691107174760827e+35\n",
      "node:\t 675\n",
      "sparsity:\t 86.58045892150493\n"
     ]
    }
   ],
   "source": [
    "model = 'cifar10_resnet20'\n",
    "model_class = 'lottery'\n",
    "compression = 100\n",
    "pruner = 'snip'\n",
    "seed = 1\n",
    "\n",
    "path = './resnet20_cifar10_lth/replicate_118/level_9/main'\n",
    "\n",
    "df, eff_paths, eff_neurons, eff_params = stat_eff_metric(\n",
    "                                                        path=f'{path}/mask.pth', \n",
    "                                                        model=model, \n",
    "                                                        model_class=model_class, \n",
    "                                                        pruner=pruner, \n",
    "                                                        compression=compression,\n",
    "                                                        seed=seed,                  \n",
    "                                                        )\n",
    "\n",
    "sparsity_file = f'{path}/sparsity_report.json'\n",
    "with open(sparsity_file) as f:\n",
    "    sparsity = json.load(f)\n",
    "s = 100 - sparsity['unpruned'] / sparsity['total'] * 100\n",
    "print('path:\\t', eff_paths)\n",
    "print('node:\\t', eff_neurons)\n",
    "print('sparsity:\\t',s)"
   ]
  },
  {
   "cell_type": "code",
   "execution_count": 25,
   "metadata": {},
   "outputs": [
    {
     "data": {
      "text/plain": [
       "638"
      ]
     },
     "execution_count": 25,
     "metadata": {},
     "output_type": "execute_result"
    }
   ],
   "source": [
    "eff_neurons"
   ]
  },
  {
   "cell_type": "code",
   "execution_count": 19,
   "metadata": {},
   "outputs": [
    {
     "data": {
      "text/plain": [
       "29081.0"
      ]
     },
     "execution_count": 19,
     "metadata": {},
     "output_type": "execute_result"
    }
   ],
   "source": [
    "eff_params"
   ]
  },
  {
   "attachments": {},
   "cell_type": "markdown",
   "metadata": {},
   "source": [
    "#### Sparsity 90.00 - Acc 91.30"
   ]
  },
  {
   "cell_type": "code",
   "execution_count": 15,
   "metadata": {},
   "outputs": [
    {
     "name": "stdout",
     "output_type": "stream",
     "text": [
      "+------------+--------------------+\n",
      "|   Layer    | #Effective Channel |\n",
      "+------------+--------------------+\n",
      "|     0      |         3          |\n",
      "|     1      |         15         |\n",
      "|     2      |         14         |\n",
      "|     3      |         16         |\n",
      "|     4      |         13         |\n",
      "|     5      |         16         |\n",
      "|     6      |         15         |\n",
      "|     7      |         16         |\n",
      "|     8      |         29         |\n",
      "|     9      |         32         |\n",
      "|     10     |         31         |\n",
      "|     11     |         32         |\n",
      "|     12     |         30         |\n",
      "|     13     |         32         |\n",
      "|     14     |         60         |\n",
      "|     15     |         62         |\n",
      "|     16     |         62         |\n",
      "|     17     |         64         |\n",
      "|     18     |         60         |\n",
      "| pre_output |         63         |\n",
      "|   output   |         10         |\n",
      "+------------+--------------------+\n",
      "path:\t 3.0894271642644783e+33\n",
      "node:\t 675\n",
      "sparsity:\t 89.26488394070049\n"
     ]
    }
   ],
   "source": [
    "model = 'cifar10_resnet20'\n",
    "model_class = 'lottery'\n",
    "compression = 100\n",
    "pruner = 'snip'\n",
    "seed = 1\n",
    "\n",
    "path = './resnet20_cifar10_lth/replicate_118/level_10/main'\n",
    "\n",
    "df, eff_paths, eff_neurons, eff_params = stat_eff_metric(\n",
    "                                                        path=f'{path}/mask.pth', \n",
    "                                                        model=model, \n",
    "                                                        model_class=model_class, \n",
    "                                                        pruner=pruner, \n",
    "                                                        compression=compression,\n",
    "                                                        seed=seed,                  \n",
    "                                                        )\n",
    "\n",
    "sparsity_file = f'{path}/sparsity_report.json'\n",
    "with open(sparsity_file) as f:\n",
    "    sparsity = json.load(f)\n",
    "s = 100 - sparsity['unpruned'] / sparsity['total'] * 100\n",
    "print('path:\\t', eff_paths)\n",
    "print('node:\\t', eff_neurons)\n",
    "print('sparsity:\\t',s)"
   ]
  },
  {
   "cell_type": "code",
   "execution_count": 16,
   "metadata": {},
   "outputs": [
    {
     "data": {
      "text/plain": [
       "dict_keys(['conv.weight', 'blocks.0.conv1.weight', 'blocks.0.conv2.weight', 'blocks.1.conv1.weight', 'blocks.1.conv2.weight', 'blocks.2.conv1.weight', 'blocks.2.conv2.weight', 'blocks.3.conv1.weight', 'blocks.3.conv2.weight', 'blocks.3.shortcut.0.weight', 'blocks.4.conv1.weight', 'blocks.4.conv2.weight', 'blocks.5.conv1.weight', 'blocks.5.conv2.weight', 'blocks.6.conv1.weight', 'blocks.6.conv2.weight', 'blocks.6.shortcut.0.weight', 'blocks.7.conv1.weight', 'blocks.7.conv2.weight', 'blocks.8.conv1.weight', 'blocks.8.conv2.weight', 'fc.weight'])"
      ]
     },
     "execution_count": 16,
     "metadata": {},
     "output_type": "execute_result"
    }
   ],
   "source": [
    "mask = torch.load('./resnet20_cifar10_lth/replicate_42/level_10/main/mask.pth')\n",
    "mask.keys()"
   ]
  },
  {
   "cell_type": "code",
   "execution_count": 40,
   "metadata": {},
   "outputs": [],
   "source": [
    "import seaborn as sns\n",
    "import matplotlib.pyplot as plt"
   ]
  },
  {
   "cell_type": "code",
   "execution_count": 41,
   "metadata": {},
   "outputs": [
    {
     "name": "stdout",
     "output_type": "stream",
     "text": [
      "conv.weight\n"
     ]
    },
    {
     "data": {
      "image/png": "[encoded data removed]",
      "text/plain": [
       "<Figure size 432x288 with 2 Axes>"
      ]
     },
     "metadata": {
      "needs_background": "light"
     },
     "output_type": "display_data"
    },
    {
     "name": "stdout",
     "output_type": "stream",
     "text": [
      "blocks.0.conv1.weight\n"
     ]
    },
    {
     "data": {
      "image/png": "[encoded data removed]",
      "text/plain": [
       "<Figure size 432x288 with 2 Axes>"
      ]
     },
     "metadata": {
      "needs_background": "light"
     },
     "output_type": "display_data"
    },
    {
     "name": "stdout",
     "output_type": "stream",
     "text": [
      "blocks.0.conv2.weight\n"
     ]
    },
    {
     "data": {
      "image/png": "[encoded data removed]",
      "text/plain": [
       "<Figure size 432x288 with 2 Axes>"
      ]
     },
     "metadata": {
      "needs_background": "light"
     },
     "output_type": "display_data"
    },
    {
     "name": "stdout",
     "output_type": "stream",
     "text": [
      "blocks.1.conv1.weight\n"
     ]
    },
    {
     "data": {
      "image/png": "[encoded data removed]",
      "text/plain": [
       "<Figure size 432x288 with 2 Axes>"
      ]
     },
     "metadata": {
      "needs_background": "light"
     },
     "output_type": "display_data"
    },
    {
     "name": "stdout",
     "output_type": "stream",
     "text": [
      "blocks.1.conv2.weight\n"
     ]
    },
    {
     "data": {
      "image/png": "[encoded data removed]",
      "text/plain": [
       "<Figure size 432x288 with 2 Axes>"
      ]
     },
     "metadata": {
      "needs_background": "light"
     },
     "output_type": "display_data"
    },
    {
     "name": "stdout",
     "output_type": "stream",
     "text": [
      "blocks.2.conv1.weight\n"
     ]
    },
    {
     "data": {
      "image/png": "[encoded data removed]",
      "text/plain": [
       "<Figure size 432x288 with 2 Axes>"
      ]
     },
     "metadata": {
      "needs_background": "light"
     },
     "output_type": "display_data"
    },
    {
     "name": "stdout",
     "output_type": "stream",
     "text": [
      "blocks.2.conv2.weight\n"
     ]
    },
    {
     "data": {
      "image/png": "[encoded data removed]",
      "text/plain": [
       "<Figure size 432x288 with 2 Axes>"
      ]
     },
     "metadata": {
      "needs_background": "light"
     },
     "output_type": "display_data"
    },
    {
     "name": "stdout",
     "output_type": "stream",
     "text": [
      "blocks.3.conv1.weight\n"
     ]
    },
    {
     "data": {
      "image/png": "[encoded data removed]",
      "text/plain": [
       "<Figure size 432x288 with 2 Axes>"
      ]
     },
     "metadata": {
      "needs_background": "light"
     },
     "output_type": "display_data"
    },
    {
     "name": "stdout",
     "output_type": "stream",
     "text": [
      "blocks.3.conv2.weight\n"
     ]
    },
    {
     "data": {
      "image/png": "[encoded data removed]",
      "text/plain": [
       "<Figure size 432x288 with 2 Axes>"
      ]
     },
     "metadata": {
      "needs_background": "light"
     },
     "output_type": "display_data"
    },
    {
     "name": "stdout",
     "output_type": "stream",
     "text": [
      "blocks.3.shortcut.0.weight\n"
     ]
    },
    {
     "data": {
      "image/png": "[encoded data removed]",
      "text/plain": [
       "<Figure size 432x288 with 2 Axes>"
      ]
     },
     "metadata": {
      "needs_background": "light"
     },
     "output_type": "display_data"
    },
    {
     "name": "stdout",
     "output_type": "stream",
     "text": [
      "blocks.4.conv1.weight\n"
     ]
    },
    {
     "data": {
      "image/png": "[encoded data removed]",
      "text/plain": [
       "<Figure size 432x288 with 2 Axes>"
      ]
     },
     "metadata": {
      "needs_background": "light"
     },
     "output_type": "display_data"
    },
    {
     "name": "stdout",
     "output_type": "stream",
     "text": [
      "blocks.4.conv2.weight\n"
     ]
    },
    {
     "data": {
      "image/png": "[encoded data removed]",
      "text/plain": [
       "<Figure size 432x288 with 2 Axes>"
      ]
     },
     "metadata": {
      "needs_background": "light"
     },
     "output_type": "display_data"
    },
    {
     "name": "stdout",
     "output_type": "stream",
     "text": [
      "blocks.5.conv1.weight\n"
     ]
    },
    {
     "data": {
      "image/png": "[encoded data removed]",
      "text/plain": [
       "<Figure size 432x288 with 2 Axes>"
      ]
     },
     "metadata": {
      "needs_background": "light"
     },
     "output_type": "display_data"
    },
    {
     "name": "stdout",
     "output_type": "stream",
     "text": [
      "blocks.5.conv2.weight\n"
     ]
    },
    {
     "data": {
      "image/png": "[encoded data removed]",
      "text/plain": [
       "<Figure size 432x288 with 2 Axes>"
      ]
     },
     "metadata": {
      "needs_background": "light"
     },
     "output_type": "display_data"
    },
    {
     "name": "stdout",
     "output_type": "stream",
     "text": [
      "blocks.6.conv1.weight\n"
     ]
    },
    {
     "data": {
      "image/png": "[encoded data removed]",
      "text/plain": [
       "<Figure size 432x288 with 2 Axes>"
      ]
     },
     "metadata": {
      "needs_background": "light"
     },
     "output_type": "display_data"
    },
    {
     "name": "stdout",
     "output_type": "stream",
     "text": [
      "blocks.6.conv2.weight\n"
     ]
    },
    {
     "data": {
      "image/png": "[encoded data removed]",
      "text/plain": [
       "<Figure size 432x288 with 2 Axes>"
      ]
     },
     "metadata": {
      "needs_background": "light"
     },
     "output_type": "display_data"
    },
    {
     "name": "stdout",
     "output_type": "stream",
     "text": [
      "blocks.6.shortcut.0.weight\n"
     ]
    },
    {
     "data": {
      "image/png": "[encoded data removed]",
      "text/plain": [
       "<Figure size 432x288 with 2 Axes>"
      ]
     },
     "metadata": {
      "needs_background": "light"
     },
     "output_type": "display_data"
    },
    {
     "name": "stdout",
     "output_type": "stream",
     "text": [
      "blocks.7.conv1.weight\n"
     ]
    },
    {
     "data": {
      "image/png": "[encoded data removed]",
      "text/plain": [
       "<Figure size 432x288 with 2 Axes>"
      ]
     },
     "metadata": {
      "needs_background": "light"
     },
     "output_type": "display_data"
    },
    {
     "name": "stdout",
     "output_type": "stream",
     "text": [
      "blocks.7.conv2.weight\n"
     ]
    },
    {
     "data": {
      "image/png": "[encoded data removed]",
      "text/plain": [
       "<Figure size 432x288 with 2 Axes>"
      ]
     },
     "metadata": {
      "needs_background": "light"
     },
     "output_type": "display_data"
    },
    {
     "name": "stdout",
     "output_type": "stream",
     "text": [
      "blocks.8.conv1.weight\n"
     ]
    },
    {
     "data": {
      "image/png": "[encoded data removed]",
      "text/plain": [
       "<Figure size 432x288 with 2 Axes>"
      ]
     },
     "metadata": {
      "needs_background": "light"
     },
     "output_type": "display_data"
    },
    {
     "name": "stdout",
     "output_type": "stream",
     "text": [
      "blocks.8.conv2.weight\n"
     ]
    },
    {
     "data": {
      "image/png": "[encoded data removed]",
      "text/plain": [
       "<Figure size 432x288 with 2 Axes>"
      ]
     },
     "metadata": {
      "needs_background": "light"
     },
     "output_type": "display_data"
    },
    {
     "name": "stdout",
     "output_type": "stream",
     "text": [
      "fc.weight\n"
     ]
    },
    {
     "data": {
      "image/png": "[encoded data removed]",
      "text/plain": [
       "<Figure size 432x288 with 2 Axes>"
      ]
     },
     "metadata": {
      "needs_background": "light"
     },
     "output_type": "display_data"
    }
   ],
   "source": [
    "# fig, axs = plt.subplots(6,4)\n",
    "for i, (k, v) in enumerate(mask.items()):\n",
    "    print(k)\n",
    "    if 'conv' in k or 'shortcut' in k:\n",
    "        v = torch.sum(v, dim=(2,3)).squeeze(-1).cpu().numpy()\n",
    "        sns.heatmap(v)\n",
    "        plt.show()\n",
    "        # plt.plot()\n",
    "        # break\n",
    "    else:\n",
    "        v = v.cpu().numpy()\n",
    "        sns.heatmap(v)\n",
    "        # plt.show()\n"
   ]
  },
  {
   "cell_type": "code",
   "execution_count": null,
   "metadata": {},
   "outputs": [],
   "source": []
  }
 ],
 "metadata": {
  "kernelspec": {
   "display_name": "Python 3.8.10 ('pvh')",
   "language": "python",
   "name": "python3"
  },
  "language_info": {
   "codemirror_mode": {
    "name": "ipython",
    "version": 3
   },
   "file_extension": ".py",
   "mimetype": "text/x-python",
   "name": "python",
   "nbconvert_exporter": "python",
   "pygments_lexer": "ipython3",
   "version": "3.8.10 (default, May 19 2021, 13:12:57) [MSC v.1916 64 bit (AMD64)]"
  },
  "orig_nbformat": 4,
  "vscode": {
   "interpreter": {
    "hash": "75086ced69cff48769f3826efffc3bf180bc41ceb1673150291a2c3d394a9992"
   }
  }
 },
 "nbformat": 4,
 "nbformat_minor": 2
}
